{
  "nbformat": 4,
  "nbformat_minor": 0,
  "metadata": {
    "colab": {
      "provenance": []
    },
    "kernelspec": {
      "name": "python3",
      "display_name": "Python 3"
    },
    "language_info": {
      "name": "python"
    }
  },
  "cells": [
    {
      "cell_type": "code",
      "execution_count": 3,
      "metadata": {
        "colab": {
          "base_uri": "https://localhost:8080/"
        },
        "id": "RDVhLTYBJmVW",
        "outputId": "2e73726e-4d49-4283-fd99-816986393b34"
      },
      "outputs": [
        {
          "output_type": "stream",
          "name": "stdout",
          "text": [
            "조원희 테스트입니다.\n"
          ]
        }
      ],
      "source": [
        "str = \"홍길동 테스트입니다.\";\n",
        "\n",
        "print(str);"
      ]
    }
  ]
}